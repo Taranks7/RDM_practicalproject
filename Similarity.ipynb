{
  "nbformat": 4,
  "nbformat_minor": 0,
  "metadata": {
    "colab": {
      "name": "Similarity.ipynb",
      "provenance": [],
      "authorship_tag": "ABX9TyP5T7azj+zMvZDeScbN15IB"
    },
    "kernelspec": {
      "name": "python3",
      "display_name": "Python 3"
    }
  },
  "cells": [
    {
      "cell_type": "markdown",
      "metadata": {
        "id": "mDcEJ60d4BBK"
      },
      "source": [
        "#Identify which pairs of stimuli were considered to be most similar"
      ]
    },
    {
      "cell_type": "code",
      "metadata": {
        "id": "XYreZr-K5u7W"
      },
      "source": [
        ""
      ],
      "execution_count": null,
      "outputs": []
    }
  ]
}