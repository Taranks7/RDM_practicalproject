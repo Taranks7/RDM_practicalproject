{
  "nbformat": 4,
  "nbformat_minor": 0,
  "metadata": {
    "colab": {
      "name": "RDMsave",
      "provenance": [],
      "collapsed_sections": [],
      "toc_visible": true,
      "authorship_tag": "ABX9TyNKHLivwoD1SjnakH4/4T1m"
    },
    "kernelspec": {
      "name": "python3",
      "display_name": "Python 3"
    }
  },
  "cells": [
    {
      "cell_type": "markdown",
      "metadata": {
        "id": "kcrKJQzowHW4"
      },
      "source": [
        "# Save RDM's"
      ]
    },
    {
      "cell_type": "markdown",
      "metadata": {
        "id": "ri4u3yWYwJPt"
      },
      "source": [
        ""
      ]
    },
    {
      "cell_type": "code",
      "metadata": {
        "id": "7cv-2nR31z3r"
      },
      "source": [
        "import numpy as np\r\n",
        "import matplotlib \r\n",
        "import matplotlib.pyplot as plt \r\n",
        "import scipy\r\n",
        "import scipy.spatial\r\n",
        "import scipy.spatial.distance as sd\r\n",
        "from scipy.spatial.distance import squareform\r\n",
        "import os\r\n",
        "import json \r\n",
        "from subprocess import * \r\n",
        "import time"
      ],
      "execution_count": 6,
      "outputs": []
    },
    {
      "cell_type": "code",
      "metadata": {
        "id": "earF715i12_C"
      },
      "source": [
        "path = '/home/taran/projects/AVIMA' \r\n",
        "rootdir = path\r\n",
        "filepath = []\r\n",
        "for subdir, dirs, files in os.walk(rootdir):\r\n",
        "    for file in files:\r\n",
        "        if file.startswith('Meadows'):\r\n",
        "            count=0 # count default\r\n",
        "            filepath.append(os.path.join(subdir, file))\r\n",
        "            fpath = filepath[count]\r\n",
        "            %run -i 'plotrdm.py'\r\n",
        "            time.sleep(1)\r\n",
        "            count +=1      "
      ],
      "execution_count": 5,
      "outputs": []
    }
  ]
}